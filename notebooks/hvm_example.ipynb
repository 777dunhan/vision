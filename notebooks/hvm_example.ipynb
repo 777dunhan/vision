{
 "cells": [
  {
   "cell_type": "code",
   "execution_count": 1,
   "metadata": {
    "collapsed": false,
    "inputHidden": false,
    "outputHidden": false
   },
   "outputs": [],
   "source": [
    "import numpy as np\n",
    "import pandas as pd\n",
    "import xarray as xr"
   ]
  },
  {
   "cell_type": "code",
   "execution_count": 2,
   "metadata": {
    "collapsed": false,
    "inputHidden": false,
    "outputHidden": false
   },
   "outputs": [],
   "source": [
    "import mkgu\n",
    "from mkgu.metrics.rdm import RSA"
   ]
  },
  {
   "cell_type": "code",
   "execution_count": 3,
   "metadata": {
    "collapsed": false,
    "inputHidden": false,
    "outputHidden": false
   },
   "outputs": [
    {
     "data": {
      "text/plain": [
       "<xarray.NeuronRecordingAssembly (neuroid: 296, presentation: 268800, time_bin: 1)>\n",
       "array([[[ 0.060929],\n",
       "        [-0.686162],\n",
       "        ..., \n",
       "        [-0.968256],\n",
       "        [ 0.183887]],\n",
       "\n",
       "       [[-0.725592],\n",
       "        [ 0.292777],\n",
       "        ..., \n",
       "        [ 2.449372],\n",
       "        [ 0.401197]],\n",
       "\n",
       "       ..., \n",
       "       [[ 1.121319],\n",
       "        [ 1.719423],\n",
       "        ..., \n",
       "        [ 0.800551],\n",
       "        [-0.019874]],\n",
       "\n",
       "       [[-0.518903],\n",
       "        [ 0.696196],\n",
       "        ..., \n",
       "        [-0.603347],\n",
       "        [-0.175979]]], dtype=float32)\n",
       "Coordinates:\n",
       "  * neuroid          (neuroid) MultiIndex\n",
       "  - neuroid_id       (neuroid) object 'Chabo_L_M_5_9' 'Chabo_L_M_6_9' ...\n",
       "  - arr              (neuroid) object 'M' 'M' 'M' 'M' 'M' 'M' 'M' 'M' 'M' ...\n",
       "  - col              (neuroid) int64 9 9 8 9 8 8 7 7 5 6 4 9 9 9 9 9 8 7 9 6 ...\n",
       "  - hemisphere       (neuroid) object 'L' 'L' 'L' 'L' 'L' 'L' 'L' 'L' 'L' ...\n",
       "  - subregion        (neuroid) object 'cIT' 'cIT' 'cIT' 'cIT' 'cIT' 'cIT' ...\n",
       "  - animal           (neuroid) object 'Chabo' 'Chabo' 'Chabo' 'Chabo' ...\n",
       "  - y                (neuroid) float64 0.2 0.6 0.2 1.0 0.6 1.0 1.8 1.0 1.8 ...\n",
       "  - x                (neuroid) float64 1.8 1.8 1.4 1.8 1.4 1.4 1.0 1.0 0.2 ...\n",
       "  - region           (neuroid) object 'IT' 'IT' 'IT' 'IT' 'IT' 'IT' 'IT' ...\n",
       "  - row              (neuroid) int64 5 6 5 7 6 7 9 7 9 8 9 2 1 3 6 7 6 6 8 5 ...\n",
       "  * presentation     (presentation) MultiIndex\n",
       "  - image_id         (presentation) object '8a72e2bfdb8c267b57232bf96f069374d5b21832' ...\n",
       "  - repetition       (presentation) int64 0 0 0 0 0 0 0 0 0 0 0 0 0 0 0 0 0 ...\n",
       "  - stimulus         (presentation) int64 0 1 2 3 4 5 6 7 8 9 10 11 12 13 14 ...\n",
       "  - background_id    (presentation) object 'ecd40f3f6d7a4d6d88134d648884e0b9b364efc9' ...\n",
       "  - category_name    (presentation) object 'Cars' 'Tables' 'Faces' 'Fruits' ...\n",
       "  - hash_id          (presentation) object '8a72e2bfdb8c267b57232bf96f069374d5b21832' ...\n",
       "  - id               (presentation) int64 1 2 3 4 5 6 7 8 9 10 11 12 13 14 ...\n",
       "  - image_file_name  (presentation) object 'astra_rx+00.000_ry+00.000_rz+00.000_tx+00.000_ty+00.000_s+01.000_ecd40f3f6d7a4d6d88134d648884e0b9b364efc9_256x256.png' ...\n",
       "  - object_name      (presentation) object 'car_astra' 'table3' 'face2' ...\n",
       "  - rxy              (presentation) float64 0.0 0.0 0.0 0.0 0.0 0.0 0.0 0.0 ...\n",
       "  - rxy_semantic     (presentation) float64 90.0 0.0 0.0 0.0 0.0 90.0 0.0 ...\n",
       "  - rxz              (presentation) float64 0.0 0.0 0.0 0.0 0.0 0.0 0.0 0.0 ...\n",
       "  - rxz_semantic     (presentation) float64 0.0 0.0 0.0 0.0 0.0 0.0 0.0 0.0 ...\n",
       "  - ryz              (presentation) float64 0.0 0.0 0.0 0.0 0.0 0.0 0.0 0.0 ...\n",
       "  - ryz_semantic     (presentation) float64 0.0 0.0 0.0 0.0 0.0 0.0 0.0 0.0 ...\n",
       "  - s                (presentation) float64 1.0 1.0 1.0 1.0 1.0 1.0 1.0 1.0 ...\n",
       "  - size             (presentation) float64 256.0 256.0 256.0 256.0 256.0 ...\n",
       "  - ty               (presentation) float64 0.0 0.0 0.0 0.0 0.0 0.0 0.0 0.0 ...\n",
       "  - tz               (presentation) float64 0.0 0.0 0.0 0.0 0.0 0.0 0.0 0.0 ...\n",
       "  - variation        (presentation) int64 0 0 0 0 0 0 0 0 0 0 0 0 0 0 0 0 0 ...\n",
       "  * time_bin         (time_bin) MultiIndex\n",
       "  - time_bin_start   (time_bin) int64 70\n",
       "  - time_bin_end     (time_bin) int64 170\n",
       "Attributes:\n",
       "    stimulus_set_name:  dicarlo.hvm\n",
       "    stimulus_set:                                        background_id catego..."
      ]
     },
     "execution_count": 3,
     "metadata": {},
     "output_type": "execute_result"
    }
   ],
   "source": [
    "hvm = mkgu.get_assembly(name=\"dicarlo.Majaj2015\")\n",
    "hvm"
   ]
  },
  {
   "cell_type": "code",
   "execution_count": 4,
   "metadata": {
    "collapsed": false,
    "inputHidden": false,
    "outputHidden": false
   },
   "outputs": [
    {
     "data": {
      "text/plain": [
       "<xarray.NeuronRecordingAssembly (neuroid: 296, presentation: 268800, time_bin: 1)>\n",
       "array([[[ 0.060929],\n",
       "        [-0.686162],\n",
       "        ..., \n",
       "        [-0.968256],\n",
       "        [ 0.183887]],\n",
       "\n",
       "       [[-0.725592],\n",
       "        [ 0.292777],\n",
       "        ..., \n",
       "        [ 2.449372],\n",
       "        [ 0.401197]],\n",
       "\n",
       "       ..., \n",
       "       [[ 1.121319],\n",
       "        [ 1.719423],\n",
       "        ..., \n",
       "        [ 0.800551],\n",
       "        [-0.019874]],\n",
       "\n",
       "       [[-0.518903],\n",
       "        [ 0.696196],\n",
       "        ..., \n",
       "        [-0.603347],\n",
       "        [-0.175979]]], dtype=float32)\n",
       "Coordinates:\n",
       "  * neuroid          (neuroid) MultiIndex\n",
       "  - neuroid_id       (neuroid) object 'Chabo_L_M_5_9' 'Chabo_L_M_6_9' ...\n",
       "  - arr              (neuroid) object 'M' 'M' 'M' 'M' 'M' 'M' 'M' 'M' 'M' ...\n",
       "  - col              (neuroid) int64 9 9 8 9 8 8 7 7 5 6 4 9 9 9 9 9 8 7 9 6 ...\n",
       "  - hemisphere       (neuroid) object 'L' 'L' 'L' 'L' 'L' 'L' 'L' 'L' 'L' ...\n",
       "  - subregion        (neuroid) object 'cIT' 'cIT' 'cIT' 'cIT' 'cIT' 'cIT' ...\n",
       "  - animal           (neuroid) object 'Chabo' 'Chabo' 'Chabo' 'Chabo' ...\n",
       "  - y                (neuroid) float64 0.2 0.6 0.2 1.0 0.6 1.0 1.8 1.0 1.8 ...\n",
       "  - x                (neuroid) float64 1.8 1.8 1.4 1.8 1.4 1.4 1.0 1.0 0.2 ...\n",
       "  - region           (neuroid) object 'IT' 'IT' 'IT' 'IT' 'IT' 'IT' 'IT' ...\n",
       "  - row              (neuroid) int64 5 6 5 7 6 7 9 7 9 8 9 2 1 3 6 7 6 6 8 5 ...\n",
       "  * presentation     (presentation) MultiIndex\n",
       "  - image_id         (presentation) object '8a72e2bfdb8c267b57232bf96f069374d5b21832' ...\n",
       "  - repetition       (presentation) int64 0 0 0 0 0 0 0 0 0 0 0 0 0 0 0 0 0 ...\n",
       "  - stimulus         (presentation) int64 0 1 2 3 4 5 6 7 8 9 10 11 12 13 14 ...\n",
       "  - background_id    (presentation) object 'ecd40f3f6d7a4d6d88134d648884e0b9b364efc9' ...\n",
       "  - category_name    (presentation) object 'Cars' 'Tables' 'Faces' 'Fruits' ...\n",
       "  - hash_id          (presentation) object '8a72e2bfdb8c267b57232bf96f069374d5b21832' ...\n",
       "  - id               (presentation) int64 1 2 3 4 5 6 7 8 9 10 11 12 13 14 ...\n",
       "  - image_file_name  (presentation) object 'astra_rx+00.000_ry+00.000_rz+00.000_tx+00.000_ty+00.000_s+01.000_ecd40f3f6d7a4d6d88134d648884e0b9b364efc9_256x256.png' ...\n",
       "  - object_name      (presentation) object 'car_astra' 'table3' 'face2' ...\n",
       "  - rxy              (presentation) float64 0.0 0.0 0.0 0.0 0.0 0.0 0.0 0.0 ...\n",
       "  - rxy_semantic     (presentation) float64 90.0 0.0 0.0 0.0 0.0 90.0 0.0 ...\n",
       "  - rxz              (presentation) float64 0.0 0.0 0.0 0.0 0.0 0.0 0.0 0.0 ...\n",
       "  - rxz_semantic     (presentation) float64 0.0 0.0 0.0 0.0 0.0 0.0 0.0 0.0 ...\n",
       "  - ryz              (presentation) float64 0.0 0.0 0.0 0.0 0.0 0.0 0.0 0.0 ...\n",
       "  - ryz_semantic     (presentation) float64 0.0 0.0 0.0 0.0 0.0 0.0 0.0 0.0 ...\n",
       "  - s                (presentation) float64 1.0 1.0 1.0 1.0 1.0 1.0 1.0 1.0 ...\n",
       "  - size             (presentation) float64 256.0 256.0 256.0 256.0 256.0 ...\n",
       "  - ty               (presentation) float64 0.0 0.0 0.0 0.0 0.0 0.0 0.0 0.0 ...\n",
       "  - tz               (presentation) float64 0.0 0.0 0.0 0.0 0.0 0.0 0.0 0.0 ...\n",
       "  - variation        (presentation) int64 0 0 0 0 0 0 0 0 0 0 0 0 0 0 0 0 0 ...\n",
       "  * time_bin         (time_bin) MultiIndex\n",
       "  - time_bin_start   (time_bin) int64 70\n",
       "  - time_bin_end     (time_bin) int64 170\n",
       "Attributes:\n",
       "    stimulus_set_name:  dicarlo.hvm\n",
       "    stimulus_set:                                        background_id catego..."
      ]
     },
     "execution_count": 4,
     "metadata": {},
     "output_type": "execute_result"
    }
   ],
   "source": [
    "hvm.load() # This loads all data into memory instead of lazily fetching from disk"
   ]
  },
  {
   "cell_type": "code",
   "execution_count": 5,
   "metadata": {
    "collapsed": false,
    "inputHidden": false,
    "outputHidden": false
   },
   "outputs": [
    {
     "data": {
      "text/plain": [
       "<xarray.NeuronRecordingAssembly (neuroid: 168, presentation: 120320, time_bin: 1)>\n",
       "array([[[ 0.121288],\n",
       "        [-1.784021],\n",
       "        ..., \n",
       "        [-0.968256],\n",
       "        [ 0.183887]],\n",
       "\n",
       "       [[ 0.512693],\n",
       "        [ 0.512693],\n",
       "        ..., \n",
       "        [ 2.449372],\n",
       "        [ 0.401197]],\n",
       "\n",
       "       ..., \n",
       "       [[-0.384445],\n",
       "        [-0.384445],\n",
       "        ..., \n",
       "        [-0.377575],\n",
       "        [-0.393541]],\n",
       "\n",
       "       [[-1.358922],\n",
       "        [ 1.665531],\n",
       "        ..., \n",
       "        [ 0.208243],\n",
       "        [-0.358707]]], dtype=float32)\n",
       "Coordinates:\n",
       "  * neuroid          (neuroid) MultiIndex\n",
       "  - neuroid_id       (neuroid) object 'Chabo_L_M_5_9' 'Chabo_L_M_6_9' ...\n",
       "  - arr              (neuroid) object 'M' 'M' 'M' 'M' 'M' 'M' 'M' 'M' 'M' ...\n",
       "  - col              (neuroid) int64 9 9 8 9 8 8 7 7 5 6 4 8 8 6 7 5 7 7 6 6 ...\n",
       "  - hemisphere       (neuroid) object 'L' 'L' 'L' 'L' 'L' 'L' 'L' 'L' 'L' ...\n",
       "  - subregion        (neuroid) object 'cIT' 'cIT' 'cIT' 'cIT' 'cIT' 'cIT' ...\n",
       "  - animal           (neuroid) object 'Chabo' 'Chabo' 'Chabo' 'Chabo' ...\n",
       "  - y                (neuroid) float64 0.2 0.6 0.2 1.0 0.6 1.0 1.8 1.0 1.8 ...\n",
       "  - x                (neuroid) float64 1.8 1.8 1.4 1.8 1.4 1.4 1.0 1.0 0.2 ...\n",
       "  - row              (neuroid) int64 5 6 5 7 6 7 9 7 9 8 9 8 9 6 8 7 9 7 9 7 ...\n",
       "  * presentation     (presentation) MultiIndex\n",
       "  - image_id         (presentation) object '40a786ed8e13db10185ddfdbe07759d83a589e1c' ...\n",
       "  - repetition       (presentation) int64 0 0 0 0 0 0 0 0 0 0 0 0 0 0 0 0 0 ...\n",
       "  - stimulus         (presentation) int64 0 1 2 3 4 5 6 7 8 9 10 11 12 13 14 ...\n",
       "  - background_id    (presentation) object 'b7a254d0579b34d7139608df41f8f1df2aed7d9f' ...\n",
       "  - category_name    (presentation) object 'Faces' 'Tables' 'Planes' 'Faces' ...\n",
       "  - hash_id          (presentation) object '40a786ed8e13db10185ddfdbe07759d83a589e1c' ...\n",
       "  - id               (presentation) int64 3201 3202 3203 3204 3205 3206 3207 ...\n",
       "  - image_file_name  (presentation) object 'face0008_rx+22.971_ry+82.398_rz-36.793_tx-00.166_ty+00.243_s+00.571_b7a254d0579b34d7139608df41f8f1df2aed7d9f_256x256.png' ...\n",
       "  - object_name      (presentation) object 'face7' 'table3' 'airplane2' ...\n",
       "  - rxy              (presentation) float64 82.4 26.17 -88.53 70.74 77.61 ...\n",
       "  - rxy_semantic     (presentation) float64 82.4 26.17 1.467 70.74 167.6 ...\n",
       "  - rxz              (presentation) float64 22.97 79.57 -38.11 -86.38 -54.87 ...\n",
       "  - rxz_semantic     (presentation) float64 22.97 79.57 -38.11 -86.38 -54.87 ...\n",
       "  - ryz              (presentation) float64 -36.79 -82.65 -116.8 30.74 ...\n",
       "  - ryz_semantic     (presentation) float64 -36.79 -82.65 -116.8 30.74 ...\n",
       "  - s                (presentation) float64 0.7137 1.257 1.532 0.7187 0.8285 ...\n",
       "  - size             (presentation) float64 256.0 256.0 256.0 256.0 256.0 ...\n",
       "  - ty               (presentation) float64 -0.166 -0.246 0.508 -0.344 0.243 ...\n",
       "  - tz               (presentation) float64 0.243 -0.804 0.665 -0.886 0.927 ...\n",
       "  * time_bin         (time_bin) MultiIndex\n",
       "  - time_bin_start   (time_bin) int64 70\n",
       "  - time_bin_end     (time_bin) int64 170\n",
       "Attributes:\n",
       "    stimulus_set_name:  dicarlo.hvm\n",
       "    stimulus_set:                                        background_id catego..."
      ]
     },
     "execution_count": 5,
     "metadata": {},
     "output_type": "execute_result"
    }
   ],
   "source": [
    "hvm_it_v6 = hvm.sel(variation=6).sel(region=\"IT\")\n",
    "hvm_it_v6"
   ]
  },
  {
   "cell_type": "code",
   "execution_count": 6,
   "metadata": {
    "collapsed": false,
    "inputHidden": false,
    "outputHidden": false
   },
   "outputs": [
    {
     "data": {
      "text/plain": [
       "<xarray.NeuronRecordingAssembly (presentation: 64, neuroid: 168)>\n",
       "array([[ 0.087381, -0.035234,  0.16607 , ..., -0.083298, -0.04096 ,  0.009889],\n",
       "       [ 0.10009 ,  0.07415 ,  0.136218, ...,  0.049036, -0.040681, -0.049637],\n",
       "       [ 0.196117,  0.095425, -0.012496, ...,  0.088381, -0.079695,  0.023809],\n",
       "       ..., \n",
       "       [ 0.03505 ,  0.009078, -0.098099, ..., -0.030416, -0.081772, -0.185693],\n",
       "       [ 0.065006,  0.072046, -0.032077, ..., -0.127431, -0.025176, -0.034318],\n",
       "       [ 0.102832,  0.102089,  0.089803, ..., -0.055868, -0.108431, -0.083379]], dtype=float32)\n",
       "Coordinates:\n",
       "  * neuroid        (neuroid) MultiIndex\n",
       "  - neuroid_id     (neuroid) object 'Chabo_L_M_5_9' 'Chabo_L_M_6_9' ...\n",
       "  - arr            (neuroid) object 'M' 'M' 'M' 'M' 'M' 'M' 'M' 'M' 'M' 'M' ...\n",
       "  - col            (neuroid) int64 9 9 8 9 8 8 7 7 5 6 4 8 8 6 7 5 7 7 6 6 5 ...\n",
       "  - hemisphere     (neuroid) object 'L' 'L' 'L' 'L' 'L' 'L' 'L' 'L' 'L' 'L' ...\n",
       "  - subregion      (neuroid) object 'cIT' 'cIT' 'cIT' 'cIT' 'cIT' 'cIT' ...\n",
       "  - animal         (neuroid) object 'Chabo' 'Chabo' 'Chabo' 'Chabo' 'Chabo' ...\n",
       "  - y              (neuroid) float64 0.2 0.6 0.2 1.0 0.6 1.0 1.8 1.0 1.8 1.4 ...\n",
       "  - x              (neuroid) float64 1.8 1.8 1.4 1.8 1.4 1.4 1.0 1.0 0.2 0.6 ...\n",
       "  - row            (neuroid) int64 5 6 5 7 6 7 9 7 9 8 9 8 9 6 8 7 9 7 9 7 9 ...\n",
       "    time_bin       object (70, 170)\n",
       "  * presentation   (presentation) MultiIndex\n",
       "  - category_name  (presentation) object 'Animals' 'Animals' 'Animals' ...\n",
       "  - object_name    (presentation) object 'bear' 'cow' 'dog' 'elephant' ..."
      ]
     },
     "execution_count": 6,
     "metadata": {},
     "output_type": "execute_result"
    }
   ],
   "source": [
    "dim = \"presentation\"\n",
    "group_coord_names = [\"category_name\", \"object_name\"]\n",
    "hvm_it_v6_grp = hvm_it_v6.multi_groupby(group_coord_names)\n",
    "hvm_it_v6_obj = hvm_it_v6_grp.mean(dim=dim).squeeze(\"time_bin\").T\n",
    "assert hvm_it_v6_obj.shape == (64, 168)\n",
    "hvm_it_v6_obj"
   ]
  },
  {
   "cell_type": "code",
   "execution_count": 7,
   "metadata": {
    "collapsed": false,
    "inputHidden": false,
    "outputHidden": false
   },
   "outputs": [
    {
     "data": {
      "text/plain": [
       "<xarray.DataAssembly (presentation: 64)>\n",
       "array([[ 1.      ,  0.53554 ,  0.687936, ...,  0.47855 ,  0.618492,  0.551413],\n",
       "       [ 0.53554 ,  1.      ,  0.438187, ...,  0.303748,  0.413138,  0.359837],\n",
       "       [ 0.687936,  0.438187,  1.      , ...,  0.348462,  0.232529,  0.262504],\n",
       "       ..., \n",
       "       [ 0.47855 ,  0.303748,  0.348462, ...,  1.      ,  0.332639,  0.275846],\n",
       "       [ 0.618492,  0.413138,  0.232529, ...,  0.332639,  1.      ,  0.549457],\n",
       "       [ 0.551413,  0.359837,  0.262504, ...,  0.275846,  0.549457,  1.      ]])\n",
       "Coordinates:\n",
       "    time_bin       object (70, 170)\n",
       "  * presentation   (presentation) MultiIndex\n",
       "  - category_name  (presentation) object 'Animals' 'Animals' 'Animals' ...\n",
       "  - object_name    (presentation) object 'bear' 'cow' 'dog' 'elephant' ..."
      ]
     },
     "execution_count": 7,
     "metadata": {},
     "output_type": "execute_result"
    }
   ],
   "source": [
    "rsa_characterization = RSA()\n",
    "rsa = rsa_characterization(hvm_it_v6_obj)\n",
    "assert list(rsa.shape) == [64, 64]\n",
    "rsa"
   ]
  },
  {
   "cell_type": "code",
   "execution_count": null,
   "metadata": {
    "collapsed": false,
    "inputHidden": false,
    "outputHidden": false
   },
   "outputs": [],
   "source": []
  }
 ],
 "metadata": {
  "kernel_info": {
   "name": "mkgu"
  },
  "kernelspec": {
   "display_name": "mkgu",
   "language": "python",
   "name": "mkgu"
  },
  "language_info": {
   "codemirror_mode": {
    "name": "ipython",
    "version": 3
   },
   "file_extension": ".py",
   "mimetype": "text/x-python",
   "name": "python",
   "nbconvert_exporter": "python",
   "pygments_lexer": "ipython3",
   "version": "3.6.3"
  },
  "nteract": {
   "version": "0.3.4"
  }
 },
 "nbformat": 4,
 "nbformat_minor": 4
}
