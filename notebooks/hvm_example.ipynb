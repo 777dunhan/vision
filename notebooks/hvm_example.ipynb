{
  "cells": [
    {
      "cell_type": "code",
      "source": [
        "import numpy as np\n",
        "import pandas as pd\n",
        "import xarray as xr"
      ],
      "outputs": [],
      "execution_count": 1,
      "metadata": {
        "collapsed": false,
        "outputHidden": false,
        "inputHidden": false
      }
    },
    {
      "cell_type": "code",
      "source": [
        "import mkgu\n",
        "from mkgu import metrics"
      ],
      "outputs": [],
      "execution_count": 13,
      "metadata": {
        "collapsed": false,
        "outputHidden": false,
        "inputHidden": false
      }
    },
    {
      "cell_type": "code",
      "source": [
        "hvm = mkgu.get_assembly(name=\"HvM\")\n",
        "hvm"
      ],
      "outputs": [
        {
          "output_type": "execute_result",
          "execution_count": 3,
          "data": {
            "text/plain": [
              "<xarray.NeuronRecordingAssembly 'dataset_hvm' (neuroid: 296, presentation: 268800, time_bin: 1)>\n",
              "array([[[ 0.808021],\n",
              "        [ 1.555112],\n",
              "        ..., \n",
              "        [-0.200395],\n",
              "        [ 0.951983]],\n",
              "\n",
              "       [[-0.386136],\n",
              "        [-0.725592],\n",
              "        ..., \n",
              "        [ 0.050503],\n",
              "        [ 0.742559]],\n",
              "\n",
              "       ..., \n",
              "       [[ 0.822267],\n",
              "        [ 0.224162],\n",
              "        ..., \n",
              "        [ 1.634816],\n",
              "        [ 0.800551]],\n",
              "\n",
              "       [[-0.923935],\n",
              "        [-0.923935],\n",
              "        ..., \n",
              "        [ 0.265927],\n",
              "        [-0.603347]]], dtype=float32)\n",
              "Coordinates:\n",
              "  * neuroid         (neuroid) MultiIndex\n",
              "  - arr             (neuroid) object 'M' 'M' 'M' 'M' 'M' 'M' 'M' 'M' 'M' 'M' ...\n",
              "  - y               (neuroid) float64 0.2 0.6 0.2 1.0 0.6 1.0 1.8 1.0 1.8 ...\n",
              "  - col             (neuroid) int64 9 9 8 9 8 8 7 7 5 6 4 9 9 9 9 9 8 7 9 6 ...\n",
              "  - row             (neuroid) int64 5 6 5 7 6 7 9 7 9 8 9 2 1 3 6 7 6 6 8 5 ...\n",
              "  - animal          (neuroid) object 'Chabo' 'Chabo' 'Chabo' 'Chabo' 'Chabo' ...\n",
              "  - x               (neuroid) float64 1.8 1.8 1.4 1.8 1.4 1.4 1.0 1.0 0.2 ...\n",
              "  - region          (neuroid) object 'IT' 'IT' 'IT' 'IT' 'IT' 'IT' 'IT' 'IT' ...\n",
              "  * presentation    (presentation) MultiIndex\n",
              "  - ryz_semantic    (presentation) float64 -0.0 -0.0 -0.0 -0.0 -0.0 -0.0 ...\n",
              "  - bg_id           (presentation) object '01c0425e982e4edc276fe5373dbf8e5e49bd9a16' ...\n",
              "  - tz              (presentation) float64 0.0 0.0 0.0 0.0 0.0 0.0 0.0 0.0 ...\n",
              "  - rxy_semantic    (presentation) float64 -0.0 -0.0 -0.0 -0.0 -0.0 -0.0 ...\n",
              "  - id              (presentation) object 'f1ae7c2160c6cbb309b940a0dc127a8aa1060e5d' ...\n",
              "  - size            (presentation) int64 256 256 256 256 256 256 256 256 256 ...\n",
              "  - category        (presentation) object 'Fruits' 'Fruits' 'Fruits' ...\n",
              "  - obj             (presentation) object 'Apple_Fruit_obj' ...\n",
              "  - ty              (presentation) float64 0.0 0.0 0.0 0.0 0.0 0.0 0.0 0.0 ...\n",
              "  - filename        (presentation) object '/Users/jjpr/.skdata/HvMWithDiscfade_6eef6648406c333a4035cd5e60d0bf2ecf2606d7/Variation00_20110203/Apple_Fruit_obj_rx-90.000_ry+00.000_rz+00.000_tx+00.000_ty+00.000_s+00.700_01c0425e982e4edc276fe5373dbf8e5e49bd9a16_256x256.png' ...\n",
              "  - rxz_semantic    (presentation) float64 0.0 0.0 0.0 0.0 0.0 0.0 0.0 0.0 ...\n",
              "  - rxy             (presentation) float64 -0.0 -0.0 -0.0 -0.0 -0.0 -0.0 ...\n",
              "  - s               (presentation) float64 1.0 1.0 1.0 1.0 1.0 1.0 1.0 1.0 ...\n",
              "  - rxz             (presentation) float64 0.0 0.0 0.0 0.0 0.0 0.0 0.0 0.0 ...\n",
              "  - ryz             (presentation) float64 -0.0 -0.0 -0.0 -0.0 -0.0 -0.0 ...\n",
              "  - var             (presentation) object 'V0' 'V0' 'V0' 'V0' 'V0' 'V0' 'V0' ...\n",
              "  - _id             (presentation) object '01c0425e982e4edc276fe5373dbf8e5e49bd9a16_V0' ...\n",
              "  - repetition      (presentation) int64 0 0 0 0 0 0 0 0 0 0 0 0 0 0 0 0 0 0 ...\n",
              "  - stimulus        (presentation) int64 0 1 2 3 4 5 6 7 8 9 10 11 12 13 14 ...\n",
              "  * time_bin        (time_bin) MultiIndex\n",
              "  - time_bin_end    (time_bin) int64 170\n",
              "  - time_bin_start  (time_bin) int64 70"
            ]
          },
          "metadata": {}
        }
      ],
      "execution_count": 3,
      "metadata": {
        "collapsed": false,
        "outputHidden": false,
        "inputHidden": false
      }
    },
    {
      "cell_type": "code",
      "source": [
        "hvm.load()"
      ],
      "outputs": [
        {
          "output_type": "execute_result",
          "execution_count": 4,
          "data": {
            "text/plain": [
              "<xarray.NeuronRecordingAssembly 'dataset_hvm' (neuroid: 296, presentation: 268800, time_bin: 1)>\n",
              "array([[[ 0.808021],\n",
              "        [ 1.555112],\n",
              "        ..., \n",
              "        [-0.200395],\n",
              "        [ 0.951983]],\n",
              "\n",
              "       [[-0.386136],\n",
              "        [-0.725592],\n",
              "        ..., \n",
              "        [ 0.050503],\n",
              "        [ 0.742559]],\n",
              "\n",
              "       ..., \n",
              "       [[ 0.822267],\n",
              "        [ 0.224162],\n",
              "        ..., \n",
              "        [ 1.634816],\n",
              "        [ 0.800551]],\n",
              "\n",
              "       [[-0.923935],\n",
              "        [-0.923935],\n",
              "        ..., \n",
              "        [ 0.265927],\n",
              "        [-0.603347]]], dtype=float32)\n",
              "Coordinates:\n",
              "  * neuroid         (neuroid) MultiIndex\n",
              "  - arr             (neuroid) object 'M' 'M' 'M' 'M' 'M' 'M' 'M' 'M' 'M' 'M' ...\n",
              "  - y               (neuroid) float64 0.2 0.6 0.2 1.0 0.6 1.0 1.8 1.0 1.8 ...\n",
              "  - col             (neuroid) int64 9 9 8 9 8 8 7 7 5 6 4 9 9 9 9 9 8 7 9 6 ...\n",
              "  - row             (neuroid) int64 5 6 5 7 6 7 9 7 9 8 9 2 1 3 6 7 6 6 8 5 ...\n",
              "  - animal          (neuroid) object 'Chabo' 'Chabo' 'Chabo' 'Chabo' 'Chabo' ...\n",
              "  - x               (neuroid) float64 1.8 1.8 1.4 1.8 1.4 1.4 1.0 1.0 0.2 ...\n",
              "  - region          (neuroid) object 'IT' 'IT' 'IT' 'IT' 'IT' 'IT' 'IT' 'IT' ...\n",
              "  * presentation    (presentation) MultiIndex\n",
              "  - ryz_semantic    (presentation) float64 -0.0 -0.0 -0.0 -0.0 -0.0 -0.0 ...\n",
              "  - bg_id           (presentation) object '01c0425e982e4edc276fe5373dbf8e5e49bd9a16' ...\n",
              "  - tz              (presentation) float64 0.0 0.0 0.0 0.0 0.0 0.0 0.0 0.0 ...\n",
              "  - rxy_semantic    (presentation) float64 -0.0 -0.0 -0.0 -0.0 -0.0 -0.0 ...\n",
              "  - id              (presentation) object 'f1ae7c2160c6cbb309b940a0dc127a8aa1060e5d' ...\n",
              "  - size            (presentation) int64 256 256 256 256 256 256 256 256 256 ...\n",
              "  - category        (presentation) object 'Fruits' 'Fruits' 'Fruits' ...\n",
              "  - obj             (presentation) object 'Apple_Fruit_obj' ...\n",
              "  - ty              (presentation) float64 0.0 0.0 0.0 0.0 0.0 0.0 0.0 0.0 ...\n",
              "  - filename        (presentation) object '/Users/jjpr/.skdata/HvMWithDiscfade_6eef6648406c333a4035cd5e60d0bf2ecf2606d7/Variation00_20110203/Apple_Fruit_obj_rx-90.000_ry+00.000_rz+00.000_tx+00.000_ty+00.000_s+00.700_01c0425e982e4edc276fe5373dbf8e5e49bd9a16_256x256.png' ...\n",
              "  - rxz_semantic    (presentation) float64 0.0 0.0 0.0 0.0 0.0 0.0 0.0 0.0 ...\n",
              "  - rxy             (presentation) float64 -0.0 -0.0 -0.0 -0.0 -0.0 -0.0 ...\n",
              "  - s               (presentation) float64 1.0 1.0 1.0 1.0 1.0 1.0 1.0 1.0 ...\n",
              "  - rxz             (presentation) float64 0.0 0.0 0.0 0.0 0.0 0.0 0.0 0.0 ...\n",
              "  - ryz             (presentation) float64 -0.0 -0.0 -0.0 -0.0 -0.0 -0.0 ...\n",
              "  - var             (presentation) object 'V0' 'V0' 'V0' 'V0' 'V0' 'V0' 'V0' ...\n",
              "  - _id             (presentation) object '01c0425e982e4edc276fe5373dbf8e5e49bd9a16_V0' ...\n",
              "  - repetition      (presentation) int64 0 0 0 0 0 0 0 0 0 0 0 0 0 0 0 0 0 0 ...\n",
              "  - stimulus        (presentation) int64 0 1 2 3 4 5 6 7 8 9 10 11 12 13 14 ...\n",
              "  * time_bin        (time_bin) MultiIndex\n",
              "  - time_bin_end    (time_bin) int64 170\n",
              "  - time_bin_start  (time_bin) int64 70"
            ]
          },
          "metadata": {}
        }
      ],
      "execution_count": 4,
      "metadata": {
        "collapsed": false,
        "outputHidden": false,
        "inputHidden": false
      }
    },
    {
      "cell_type": "code",
      "source": [
        "dim = \"presentation\"\n",
        "fraction = 0.01\n",
        "indices = sorted(np.random.choice(hvm.sizes[dim], int(hvm.sizes[dim]*fraction), replace=False))\n",
        "d = {dim: indices}\n",
        "hvm_small = hvm.isel(**d)\n",
        "hvm_small"
      ],
      "outputs": [
        {
          "output_type": "execute_result",
          "execution_count": 7,
          "data": {
            "text/plain": [
              "<xarray.NeuronRecordingAssembly 'dataset_hvm' (neuroid: 296, presentation: 2688, time_bin: 1)>\n",
              "array([[[ 1.181566],\n",
              "        [-0.312616],\n",
              "        ..., \n",
              "        [-0.584208],\n",
              "        [ 0.951983]],\n",
              "\n",
              "       [[-1.065048],\n",
              "        [-1.065048],\n",
              "        ..., \n",
              "        [-0.964253],\n",
              "        [-0.281528]],\n",
              "\n",
              "       ..., \n",
              "       [[ 1.420371],\n",
              "        [ 0.523214],\n",
              "        ..., \n",
              "        [ 0.801944],\n",
              "        [-0.879624]],\n",
              "\n",
              "       [[ 0.291163],\n",
              "        [-0.923935],\n",
              "        ..., \n",
              "        [-0.374007],\n",
              "        [-1.566836]]], dtype=float32)\n",
              "Coordinates:\n",
              "  * neuroid         (neuroid) MultiIndex\n",
              "  - arr             (neuroid) object 'M' 'M' 'M' 'M' 'M' 'M' 'M' 'M' 'M' 'M' ...\n",
              "  - y               (neuroid) float64 0.2 0.6 0.2 1.0 0.6 1.0 1.8 1.0 1.8 ...\n",
              "  - col             (neuroid) int64 9 9 8 9 8 8 7 7 5 6 4 9 9 9 9 9 8 7 9 6 ...\n",
              "  - row             (neuroid) int64 5 6 5 7 6 7 9 7 9 8 9 2 1 3 6 7 6 6 8 5 ...\n",
              "  - animal          (neuroid) object 'Chabo' 'Chabo' 'Chabo' 'Chabo' 'Chabo' ...\n",
              "  - x               (neuroid) float64 1.8 1.8 1.4 1.8 1.4 1.4 1.0 1.0 0.2 ...\n",
              "  - region          (neuroid) object 'IT' 'IT' 'IT' 'IT' 'IT' 'IT' 'IT' 'IT' ...\n",
              "  * presentation    (presentation) MultiIndex\n",
              "  - ryz_semantic    (presentation) float64 -0.0 -0.0 -0.0 -0.0 -0.0 -0.0 ...\n",
              "  - bg_id           (presentation) object 'dd22af46339b5d82d9f6bce3e35ef0a1befc6aeb' ...\n",
              "  - tz              (presentation) float64 0.0 0.0 0.0 0.0 0.0 0.0 0.0 0.0 ...\n",
              "  - rxy_semantic    (presentation) float64 90.0 90.0 90.0 90.0 -0.0 -0.0 ...\n",
              "  - id              (presentation) object '2aaa58fffd1f4186dbfb3ac75fcd0a97384845e6' ...\n",
              "  - size            (presentation) int64 256 256 256 256 256 256 256 256 256 ...\n",
              "  - category        (presentation) object 'Animals' 'Cars' 'Planes' ...\n",
              "  - obj             (presentation) object 'ELEPHANT_M' 'astra' 'f16' ...\n",
              "  - ty              (presentation) float64 0.0 0.0 0.0 0.0 0.0 0.0 0.0 0.0 ...\n",
              "  - filename        (presentation) object '/Users/jjpr/.skdata/HvMWithDiscfade_6eef6648406c333a4035cd5e60d0bf2ecf2606d7/Variation00_20110203/ELEPHANT_M_rx+00.000_ry+00.000_rz+00.000_tx+00.000_ty+00.000_s+00.800_dd22af46339b5d82d9f6bce3e35ef0a1befc6aeb_256x256.png' ...\n",
              "  - rxz_semantic    (presentation) float64 0.0 0.0 0.0 0.0 0.0 0.0 0.0 0.0 ...\n",
              "  - rxy             (presentation) float64 -0.0 -0.0 -0.0 -0.0 -0.0 -0.0 ...\n",
              "  - s               (presentation) float64 1.0 1.0 1.0 1.0 1.0 1.0 1.0 1.0 ...\n",
              "  - rxz             (presentation) float64 0.0 0.0 0.0 0.0 0.0 0.0 0.0 0.0 ...\n",
              "  - ryz             (presentation) float64 -0.0 -0.0 -0.0 -0.0 -0.0 -0.0 ...\n",
              "  - var             (presentation) object 'V0' 'V0' 'V0' 'V0' 'V0' 'V0' 'V0' ...\n",
              "  - _id             (presentation) object 'dd22af46339b5d82d9f6bce3e35ef0a1befc6aeb_V0' ...\n",
              "  - repetition      (presentation) int64 0 0 0 1 1 1 1 1 1 1 2 2 2 2 2 2 2 2 ...\n",
              "  - stimulus        (presentation) int64 69 352 441 81 151 159 192 324 426 ...\n",
              "  * time_bin        (time_bin) MultiIndex\n",
              "  - time_bin_end    (time_bin) int64 170\n",
              "  - time_bin_start  (time_bin) int64 70"
            ]
          },
          "metadata": {}
        }
      ],
      "execution_count": 7,
      "metadata": {
        "collapsed": false,
        "outputHidden": false,
        "inputHidden": false
      }
    },
    {
      "cell_type": "code",
      "source": [
        "hvm_it_v6 = hvm_small.sel(var=\"V6\").sel(region=\"IT\")\n",
        "hvm_it_v6"
      ],
      "outputs": [
        {
          "output_type": "execute_result",
          "execution_count": 8,
          "data": {
            "text/plain": [
              "<xarray.NeuronRecordingAssembly 'dataset_hvm' (neuroid: 168, presentation: 1231, time_bin: 1)>\n",
              "array([[[ 0.121288],\n",
              "        [-0.259774],\n",
              "        ..., \n",
              "        [-0.584208],\n",
              "        [ 0.951983]],\n",
              "\n",
              "       [[ 0.512693],\n",
              "        [-1.45123 ],\n",
              "        ..., \n",
              "        [-0.964253],\n",
              "        [-0.281528]],\n",
              "\n",
              "       ..., \n",
              "       [[ 2.235602],\n",
              "        [ 0.36414 ],\n",
              "        ..., \n",
              "        [ 1.135502],\n",
              "        [ 0.592418]],\n",
              "\n",
              "       [[ 0.65738 ],\n",
              "        [ 1.32948 ],\n",
              "        ..., \n",
              "        [ 1.707068],\n",
              "        [ 1.402507]]], dtype=float32)\n",
              "Coordinates:\n",
              "  * neuroid         (neuroid) MultiIndex\n",
              "  - arr             (neuroid) object 'M' 'M' 'M' 'M' 'M' 'M' 'M' 'M' 'M' 'M' ...\n",
              "  - y               (neuroid) float64 0.2 0.6 0.2 1.0 0.6 1.0 1.8 1.0 1.8 ...\n",
              "  - col             (neuroid) int64 9 9 8 9 8 8 7 7 5 6 4 8 8 6 7 5 7 7 6 6 ...\n",
              "  - row             (neuroid) int64 5 6 5 7 6 7 9 7 9 8 9 8 9 6 8 7 9 7 9 7 ...\n",
              "  - animal          (neuroid) object 'Chabo' 'Chabo' 'Chabo' 'Chabo' 'Chabo' ...\n",
              "  - x               (neuroid) float64 1.8 1.8 1.4 1.8 1.4 1.4 1.0 1.0 0.2 ...\n",
              "  * presentation    (presentation) MultiIndex\n",
              "  - ryz_semantic    (presentation) float64 -6.26 83.89 -70.44 -1.103 -146.1 ...\n",
              "  - bg_id           (presentation) object '48cbf015f290725f72b034f17589cc4abd99c975' ...\n",
              "  - tz              (presentation) float64 0.14 -0.604 0.981 1.024 -0.583 ...\n",
              "  - rxy_semantic    (presentation) float64 43.66 58.08 92.22 71.85 61.44 ...\n",
              "  - id              (presentation) object '9b61fbbcc9c45529da545eece819ddfc03b0907a' ...\n",
              "  - size            (presentation) int64 256 256 256 256 256 256 256 256 256 ...\n",
              "  - category        (presentation) object 'Fruits' 'Cars' 'Cars' 'Animals' ...\n",
              "  - obj             (presentation) object 'Apricot_obj' 'Beetle' 'Beetle' ...\n",
              "  - ty              (presentation) float64 0.416 -0.243 0.137 0.058 0.403 ...\n",
              "  - filename        (presentation) object '/Users/jjpr/.skdata/HvMWithDiscfade_6eef6648406c333a4035cd5e60d0bf2ecf2606d7/Variation06_20110131/Apricot_obj_rx-46.343_ry+89.901_rz+83.668_tx+00.416_ty+00.140_s+00.862_48cbf015f290725f72b034f17589cc4abd99c975_256x256.png' ...\n",
              "  - rxz_semantic    (presentation) float64 0.06834 27.24 66.69 -80.65 18.9 ...\n",
              "  - rxy             (presentation) float64 43.66 -31.92 2.215 -18.15 61.44 ...\n",
              "  - s               (presentation) float64 1.231 1.082 1.323 0.6787 1.5 ...\n",
              "  - rxz             (presentation) float64 0.06834 27.24 66.69 -80.65 18.9 ...\n",
              "  - ryz             (presentation) float64 -6.26 83.89 -70.44 -1.103 -146.1 ...\n",
              "  - _id             (presentation) object '48cbf015f290725f72b034f17589cc4abd99c975_V6' ...\n",
              "  - repetition      (presentation) int64 0 0 0 0 0 0 0 0 0 0 0 0 0 0 0 0 0 0 ...\n",
              "  - stimulus        (presentation) int64 72 127 137 315 425 432 439 528 729 ...\n",
              "  * time_bin        (time_bin) MultiIndex\n",
              "  - time_bin_end    (time_bin) int64 170\n",
              "  - time_bin_start  (time_bin) int64 70"
            ]
          },
          "metadata": {}
        }
      ],
      "execution_count": 8,
      "metadata": {
        "collapsed": false,
        "outputHidden": false,
        "inputHidden": false
      }
    },
    {
      "cell_type": "code",
      "source": [
        "group_coord_names = [\"category\", \"obj\"]\n",
        "hvm_it_v6_grp = hvm_it_v6.multi_groupby(group_coord_names)\n",
        "hvm_it_v6_grp"
      ],
      "outputs": [
        {
          "output_type": "execute_result",
          "execution_count": 9,
          "data": {
            "text/plain": [
              "<mkgu.assemblies.GroupbyBridge at 0x118c9c518>"
            ]
          },
          "metadata": {}
        }
      ],
      "execution_count": 9,
      "metadata": {
        "collapsed": false,
        "outputHidden": false,
        "inputHidden": false
      }
    },
    {
      "cell_type": "code",
      "source": [
        "hvm_it_v6_obj = hvm_it_v6_grp.mean(dim=dim).squeeze(\"time_bin\").T\n",
        "assert hvm_it_v6_obj.shape == (64, 168)\n",
        "hvm_it_v6_obj"
      ],
      "outputs": [
        {
          "output_type": "execute_result",
          "execution_count": 16,
          "data": {
            "text/plain": [
              "<xarray.NeuronRecordingAssembly 'dataset_hvm' (presentation: 64, neuroid: 168)>\n",
              "array([[ 0.09894 , -0.501152, -0.403668, ...,  0.250164, -0.04273 ,  0.192469],\n",
              "       [-0.103032, -0.133342,  0.451318, ..., -0.050875,  0.268036,  0.350942],\n",
              "       [-0.372253, -0.059222,  0.214954, ...,  0.415837,  0.345803,  0.359539],\n",
              "       ..., \n",
              "       [-0.063616,  0.02294 , -0.052702, ..., -0.003976, -0.099993, -0.172002],\n",
              "       [ 0.022207, -0.161085,  0.026367, ..., -0.179097, -0.083223,  0.063371],\n",
              "       [ 0.461849,  0.240808, -0.182985, ..., -0.424621,  0.028327,  0.060863]], dtype=float32)\n",
              "Coordinates:\n",
              "  * neuroid       (neuroid) MultiIndex\n",
              "  - arr           (neuroid) object 'M' 'M' 'M' 'M' 'M' 'M' 'M' 'M' 'M' 'M' ...\n",
              "  - y             (neuroid) float64 0.2 0.6 0.2 1.0 0.6 1.0 1.8 1.0 1.8 1.4 ...\n",
              "  - col           (neuroid) int64 9 9 8 9 8 8 7 7 5 6 4 8 8 6 7 5 7 7 6 6 5 ...\n",
              "  - row           (neuroid) int64 5 6 5 7 6 7 9 7 9 8 9 8 9 6 8 7 9 7 9 7 9 ...\n",
              "  - animal        (neuroid) object 'Chabo' 'Chabo' 'Chabo' 'Chabo' 'Chabo' ...\n",
              "  - x             (neuroid) float64 1.8 1.8 1.4 1.8 1.4 1.4 1.0 1.0 0.2 0.6 ...\n",
              "    time_bin      object (170, 70)\n",
              "  * presentation  (presentation) MultiIndex\n",
              "  - category      (presentation) object 'Animals' 'Animals' 'Animals' ...\n",
              "  - obj           (presentation) object 'ELEPHANT_M' 'GORILLA' 'LIONESS' ..."
            ]
          },
          "metadata": {}
        }
      ],
      "execution_count": 16,
      "metadata": {
        "collapsed": false,
        "outputHidden": false,
        "inputHidden": false
      }
    },
    {
      "cell_type": "code",
      "source": [
        "rdm_hvm = metrics.RDM()\n",
        "bmk_hvm = metrics.Benchmark(rdm_hvm, hvm_it_v6_obj)\n",
        "rdm = bmk_hvm.calculate()\n",
        "assert rdm.shape == (64, 64)\n",
        "rdm"
      ],
      "outputs": [
        {
          "output_type": "execute_result",
          "execution_count": 17,
          "data": {
            "text/plain": [
              "array([[ 1.        ,  0.12883963,  0.19493496, ..., -0.03996762,\n",
              "        -0.18731509, -0.14668575],\n",
              "       [ 0.12883963,  1.        ,  0.1175529 , ...,  0.14366373,\n",
              "         0.14501458,  0.15428576],\n",
              "       [ 0.19493496,  0.1175529 ,  1.        , ..., -0.09805924,\n",
              "        -0.20979389, -0.17942924],\n",
              "       ..., \n",
              "       [-0.03996762,  0.14366373, -0.09805924, ...,  1.        ,\n",
              "         0.19866627,  0.22339773],\n",
              "       [-0.18731509,  0.14501458, -0.20979389, ...,  0.19866627,\n",
              "         1.        ,  0.19626698],\n",
              "       [-0.14668575,  0.15428576, -0.17942924, ...,  0.22339773,\n",
              "         0.19626698,  1.        ]])"
            ]
          },
          "metadata": {}
        }
      ],
      "execution_count": 17,
      "metadata": {
        "collapsed": false,
        "outputHidden": false,
        "inputHidden": false
      }
    },
    {
      "cell_type": "code",
      "source": [],
      "outputs": [],
      "execution_count": null,
      "metadata": {
        "collapsed": false,
        "outputHidden": false,
        "inputHidden": false
      }
    }
  ],
  "metadata": {
    "kernelspec": {
      "name": "mkgu",
      "language": "python",
      "display_name": "mkgu"
    },
    "kernel_info": {
      "name": "mkgu"
    },
    "language_info": {
      "name": "python",
      "version": "3.6.2",
      "mimetype": "text/x-python",
      "codemirror_mode": {
        "name": "ipython",
        "version": 3
      },
      "pygments_lexer": "ipython3",
      "nbconvert_exporter": "python",
      "file_extension": ".py"
    },
    "nteract": {
      "version": "0.3.4"
    }
  },
  "nbformat": 4,
  "nbformat_minor": 4
}