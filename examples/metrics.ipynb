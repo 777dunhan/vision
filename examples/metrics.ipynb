{
 "cells": [
  {
   "cell_type": "code",
   "execution_count": 1,
   "metadata": {
    "collapsed": true,
    "inputHidden": false,
    "outputHidden": false
   },
   "outputs": [],
   "source": [
    "# load and standardize data\n",
    "\n",
    "import mkgu\n",
    "\n",
    "neural_data = mkgu.get_assembly(name=\"dicarlo.Majaj2015\")\n",
    "neural_data.load()\n",
    "neural_data = neural_data.sel(variation=6).multi_groupby(['category_name', 'object_name', 'image_id']) \\\n",
    "    .mean(dim='presentation').squeeze('time_bin').T\n",
    "# Mostly, we compare neural data with computational models, \n",
    "# for deep neural networks see https://github.com/mschrimpf/brain-score-models.\n",
    "# This repository is agnostic of the comparison system, \n",
    "# To show-case the functionality, we are going to compare different regions.\n",
    "v4_data = neural_data.sel(region='V4')\n",
    "it_data = neural_data.sel(region='IT')"
   ]
  },
  {
   "cell_type": "markdown",
   "metadata": {},
   "source": [
    "### Neural fit"
   ]
  },
  {
   "cell_type": "code",
   "execution_count": 4,
   "metadata": {},
   "outputs": [
    {
     "name": "stderr",
     "output_type": "stream",
     "text": [
      "/home/martin/miniconda3/envs/neurality/lib/python3.6/site-packages/sklearn/model_selection/_split.py:1639: FutureWarning: From version 0.21, test_size will always complement train_size unless both are specified.\n  FutureWarning)\n"
     ]
    },
    {
     "name": "stdout",
     "output_type": "stream",
     "text": [
      "full score:  NeuroidMedianScore(values=<xarray.DataAssembly (split: 10)>\narray([0.563077, 0.550949, 0.559204, 0.523328, 0.556234, 0.528516, 0.528036,\n       0.547969, 0.543635, 0.54202 ])\nCoordinates:\n  * split    (split) int64 0 1 2 3 4 5 6 7 8 9,aggregation=<xarray.DataAssembly (aggregation: 2)>\narray([0.544297, 0.004164])\nCoordinates:\n  * aggregation  (aggregation) object 'center' 'error') \n\ncenter: <xarray.DataAssembly ()>\narray(0.544297)\nCoordinates:\n    aggregation  <U6 'center'\n"
     ]
    }
   ],
   "source": [
    "# To compare two systems, we instantiate the metric and call it on the source and target assembly.\n",
    "from mkgu.metrics.neural_fit import NeuralFit\n",
    "\n",
    "neural_fit_metric = NeuralFit()\n",
    "score = neural_fit_metric(v4_data, it_data)\n",
    "# This gives us a score, containing the raw `values` that went into the score. \n",
    "# For instance, there is one value per cross-validation split.\n",
    "# Since we often care only about a value and error bars, \n",
    "# it also contains an `aggregation` with a center and error (typically mean and s.e.m.).\n",
    "print(\"full score: \", score, \"\\n\")\n",
    "# Since the score is potentially multi-dimensional, it is also structured as an xarray DataArray.\n",
    "# We can select the center as follows.\n",
    "print(\"center:\", score.aggregation.sel(aggregation='center'))\n"
   ]
  },
  {
   "cell_type": "markdown",
   "metadata": {},
   "source": [
    "### RDM"
   ]
  },
  {
   "cell_type": "code",
   "execution_count": 5,
   "metadata": {},
   "outputs": [
    {
     "name": "stderr",
     "output_type": "stream",
     "text": [
      "/home/martin/miniconda3/envs/neurality/lib/python3.6/site-packages/sklearn/model_selection/_split.py:1639: FutureWarning: From version 0.21, test_size will always complement train_size unless both are specified.\n  FutureWarning)\n"
     ]
    },
    {
     "name": "stdout",
     "output_type": "stream",
     "text": [
      "center: <xarray.DataAssembly ()>\narray(0.286585)\nCoordinates:\n    aggregation  <U6 'center'\n"
     ]
    }
   ],
   "source": [
    "# We can easily swap out the specific metric and use e.g. RDMs.\n",
    "# To compare two systems, we instantiate the metric and call it on the source and target assembly.\n",
    "from mkgu.metrics.rdm import RDMMetric\n",
    "\n",
    "rdm = RDMMetric()\n",
    "score = rdm(v4_data, it_data)\n",
    "print(\"center:\", score.aggregation.sel(aggregation='center'))\n",
    "# Note how the score is much lower with RDMs due to missing re-mapping."
   ]
  }
 ],
 "metadata": {
  "kernel_info": {
   "name": "mkgu"
  },
  "kernelspec": {
   "display_name": "mkgu",
   "language": "python",
   "name": "mkgu"
  },
  "language_info": {
   "codemirror_mode": {
    "name": "ipython",
    "version": 3
   },
   "file_extension": ".py",
   "mimetype": "text/x-python",
   "name": "python",
   "nbconvert_exporter": "python",
   "pygments_lexer": "ipython3",
   "version": "3.6.3"
  },
  "nteract": {
   "version": "0.3.4"
  }
 },
 "nbformat": 4,
 "nbformat_minor": 4
}
