{
  "cells": [
    {
      "cell_type": "code",
      "source": [
        "import brainscore"
      ],
      "outputs": [],
      "execution_count": 1,
      "metadata": {
        "collapsed": false,
        "outputHidden": false,
        "inputHidden": false
      }
    },
    {
      "cell_type": "code",
      "source": [
        "gallant = brainscore.get_assembly(\"gallant.David2004\")\n",
        "gallant"
      ],
      "outputs": [
        {
          "output_type": "stream",
          "name": "stdout",
          "text": [
            "getting gallant_v1_single_electrode.nc\n",
            "getting gallant_crcns_v1_stimuli.zip\n"
          ]
        },
        {
          "output_type": "execute_result",
          "execution_count": 2,
          "data": {
            "text/plain": [
              "<xarray.NeuronRecordingAssembly 'gallant.David2004' (neuroid: 23, presentation: 189305)>\n",
              "array([[  0.,   0.,   0., ...,  nan,  nan,  nan],\n",
              "       [ nan,  nan,  nan, ...,  nan,  nan,  nan],\n",
              "       [ nan,  nan,  nan, ...,  nan,  nan,  nan],\n",
              "       ..., \n",
              "       [ nan,  nan,  nan, ...,  nan,  nan,  nan],\n",
              "       [ nan,  nan,  nan, ...,  nan,  nan,  nan],\n",
              "       [ nan,  nan,  nan, ...,   0.,   0.,   0.]])\n",
              "Coordinates:\n",
              "  * neuroid                   (neuroid) object 'r0148A' 'r0150B' 'r0154B' ...\n",
              "  * presentation              (presentation) MultiIndex\n",
              "  - presentation_id           (presentation) int64 0 1 2 3 4 5 6 7 8 9 10 11 ...\n",
              "  - image_file_path_original  (presentation) object 'r0148A/NatRev.MountLake.40.150.imsm/1.jpg' ...\n",
              "  - image_id                  (presentation) object '33613a99bdc22fe498864bf32b798e018a961ed7' ...\n",
              "  - id                        (presentation) int64 29882 71211 63228 49398 ...\n",
              "  - image_file_sha1           (presentation) object '33613a99bdc22fe498864bf32b798e018a961ed7' ...\n",
              "  - image_file_path_unique    (presentation) object 'r0148A/NatRev.MountLake.40.150.imsm/1.jpg' ...\n",
              "Attributes:\n",
              "    stimulus_set_name:  gallant.David2004\n",
              "    stimulus_set:                   id                                  image..."
            ]
          },
          "metadata": {}
        }
      ],
      "execution_count": 2,
      "metadata": {
        "collapsed": false,
        "outputHidden": false,
        "inputHidden": false
      }
    },
    {
      "cell_type": "code",
      "source": [
        "hvm = brainscore.get_assembly(\"dicarlo.Majaj2015\")\n",
        "hvm"
      ],
      "outputs": [
        {
          "output_type": "stream",
          "name": "stdout",
          "text": [
            "getting hvm_neuronal_features.nc\n",
            "getting HvM_with_discfade.zip\n"
          ]
        },
        {
          "output_type": "execute_result",
          "execution_count": 3,
          "data": {
            "text/plain": [
              "<xarray.NeuronRecordingAssembly 'dicarlo.Majaj2015' (neuroid: 296, presentation: 268800, time_bin: 1)>\n",
              "array([[[ 0.060929],\n",
              "        [-0.686162],\n",
              "        ..., \n",
              "        [-0.968256],\n",
              "        [ 0.183887]],\n",
              "\n",
              "       [[-0.725592],\n",
              "        [ 0.292777],\n",
              "        ..., \n",
              "        [ 2.449372],\n",
              "        [ 0.401197]],\n",
              "\n",
              "       ..., \n",
              "       [[ 1.121319],\n",
              "        [ 1.719423],\n",
              "        ..., \n",
              "        [ 0.800551],\n",
              "        [-0.019874]],\n",
              "\n",
              "       [[-0.518903],\n",
              "        [ 0.696196],\n",
              "        ..., \n",
              "        [-0.603347],\n",
              "        [-0.175979]]], dtype=float32)\n",
              "Coordinates:\n",
              "  * neuroid          (neuroid) MultiIndex\n",
              "  - neuroid_id       (neuroid) object 'Chabo_L_M_5_9' 'Chabo_L_M_6_9' ...\n",
              "  - arr              (neuroid) object 'M' 'M' 'M' 'M' 'M' 'M' 'M' 'M' 'M' ...\n",
              "  - col              (neuroid) int64 9 9 8 9 8 8 7 7 5 6 4 9 9 9 9 9 8 7 9 6 ...\n",
              "  - hemisphere       (neuroid) object 'L' 'L' 'L' 'L' 'L' 'L' 'L' 'L' 'L' ...\n",
              "  - subregion        (neuroid) object 'cIT' 'cIT' 'cIT' 'cIT' 'cIT' 'cIT' ...\n",
              "  - animal           (neuroid) object 'Chabo' 'Chabo' 'Chabo' 'Chabo' ...\n",
              "  - y                (neuroid) float64 0.2 0.6 0.2 1.0 0.6 1.0 1.8 1.0 1.8 ...\n",
              "  - x                (neuroid) float64 1.8 1.8 1.4 1.8 1.4 1.4 1.0 1.0 0.2 ...\n",
              "  - region           (neuroid) object 'IT' 'IT' 'IT' 'IT' 'IT' 'IT' 'IT' ...\n",
              "  - row              (neuroid) int64 5 6 5 7 6 7 9 7 9 8 9 2 1 3 6 7 6 6 8 5 ...\n",
              "  * presentation     (presentation) MultiIndex\n",
              "  - image_id         (presentation) object '8a72e2bfdb8c267b57232bf96f069374d5b21832' ...\n",
              "  - repetition       (presentation) int64 0 0 0 0 0 0 0 0 0 0 0 0 0 0 0 0 0 ...\n",
              "  - stimulus         (presentation) int64 0 1 2 3 4 5 6 7 8 9 10 11 12 13 14 ...\n",
              "  - id               (presentation) int64 1 2 3 4 5 6 7 8 9 10 11 12 13 14 ...\n",
              "  - image_file_name  (presentation) object 'astra_rx+00.000_ry+00.000_rz+00.000_tx+00.000_ty+00.000_s+01.000_ecd40f3f6d7a4d6d88134d648884e0b9b364efc9_256x256.png' ...\n",
              "  - object_name      (presentation) object 'car_astra' 'table3' 'face2' ...\n",
              "  - category_name    (presentation) object 'Cars' 'Tables' 'Faces' 'Fruits' ...\n",
              "  - background_id    (presentation) object 'ecd40f3f6d7a4d6d88134d648884e0b9b364efc9' ...\n",
              "  - variation        (presentation) int64 0 0 0 0 0 0 0 0 0 0 0 0 0 0 0 0 0 ...\n",
              "  - ty               (presentation) float64 0.0 0.0 0.0 0.0 0.0 0.0 0.0 0.0 ...\n",
              "  - tz               (presentation) float64 0.0 0.0 0.0 0.0 0.0 0.0 0.0 0.0 ...\n",
              "  - rxy              (presentation) float64 -0.0 -0.0 -0.0 -0.0 -0.0 -0.0 ...\n",
              "  - rxz              (presentation) float64 0.0 0.0 0.0 0.0 0.0 0.0 0.0 0.0 ...\n",
              "  - ryz              (presentation) float64 -0.0 -0.0 -0.0 -0.0 -0.0 -0.0 ...\n",
              "  - rxy_semantic     (presentation) float64 90.0 -0.0 -0.0 -0.0 -0.0 90.0 ...\n",
              "  - rxz_semantic     (presentation) float64 0.0 0.0 0.0 0.0 0.0 0.0 0.0 0.0 ...\n",
              "  - ryz_semantic     (presentation) float64 -0.0 -0.0 -0.0 -0.0 -0.0 -0.0 ...\n",
              "  - size             (presentation) float64 256.0 256.0 256.0 256.0 256.0 ...\n",
              "  - s                (presentation) float64 1.0 1.0 1.0 1.0 1.0 1.0 1.0 1.0 ...\n",
              "  * time_bin         (time_bin) MultiIndex\n",
              "  - time_bin_start   (time_bin) int64 70\n",
              "  - time_bin_end     (time_bin) int64 170\n",
              "Attributes:\n",
              "    stimulus_set_name:  dicarlo.hvm\n",
              "    stimulus_set:               id                                  image_id ..."
            ]
          },
          "metadata": {}
        }
      ],
      "execution_count": 3,
      "metadata": {
        "collapsed": false,
        "outputHidden": false,
        "inputHidden": false,
        "outputExpanded": true
      }
    },
    {
      "cell_type": "code",
      "source": [
        "hvm_t = brainscore.get_assembly(\"dicarlo.Majaj2015.temporal\")\n",
        "hvm_t"
      ],
      "outputs": [
        {
          "output_type": "stream",
          "name": "stdout",
          "text": [
            "getting hvm_temporal_neuronal_features.nc\n"
          ]
        },
        {
          "output_type": "execute_result",
          "execution_count": 4,
          "data": {
            "text/plain": [
              "<xarray.NeuronRecordingAssembly 'dicarlo.Majaj2015.temporal' (neuroid: 296, presentation: 270710, time_bin: 39)>\n",
              "array([[[ 1.34598 , -0.673589, ..., -0.325305, -1.456868],\n",
              "        [ 2.2433  ,  0.205005, ..., -0.325305,  1.165494],\n",
              "        ..., \n",
              "        [-1.872702, -1.347117, ...,  0.46407 ,  0.093515],\n",
              "        [ 3.003558,  3.020907, ..., -0.37123 , -0.180458]],\n",
              "\n",
              "       [[ 0.841973,  1.818767, ..., -1.061501, -0.24362 ],\n",
              "        [ 0.841973,  1.01637 , ..., -0.265375, -1.055688],\n",
              "        ..., \n",
              "        [ 1.784337,  1.089535, ..., -1.370883, -1.295151],\n",
              "        [ 0.842859, -0.330911, ...,  2.118782,  1.031901]],\n",
              "\n",
              "       ..., \n",
              "       [[-0.089697, -1.042081, ..., -1.008055,  0.97547 ],\n",
              "        [ 0.807276,  1.637556, ...,  0.882048,  0.97547 ],\n",
              "        ..., \n",
              "        [ 0.796412,  0.559612, ...,  0.      ,  0.330872],\n",
              "        [ 1.592824, -0.239833, ...,  1.628444,  1.158051]],\n",
              "\n",
              "       [[ 0.582239, -0.420673, ...,  0.841737,  1.731793],\n",
              "        [ 0.582239,  1.382211, ..., -0.129498, -1.265541],\n",
              "        ..., \n",
              "        [ 0.242736,  0.411805, ..., -0.673322, -1.876212],\n",
              "        [-0.566383, -1.235414, ...,  0.168331, -1.023389]]], dtype=float32)\n",
              "Coordinates:\n",
              "  * neuroid          (neuroid) MultiIndex\n",
              "  - neuroid_id       (neuroid) object 'Chabo_L_M_5_9' 'Chabo_L_M_6_9' ...\n",
              "  - arr              (neuroid) object 'M' 'M' 'M' 'M' 'M' 'M' 'M' 'M' 'M' ...\n",
              "  - col              (neuroid) int64 9 9 8 9 8 8 7 7 5 6 4 9 9 9 9 9 8 7 9 6 ...\n",
              "  - hemisphere       (neuroid) object 'L' 'L' 'L' 'L' 'L' 'L' 'L' 'L' 'L' ...\n",
              "  - subregion        (neuroid) object 'cIT' 'cIT' 'cIT' 'cIT' 'cIT' 'cIT' ...\n",
              "  - animal           (neuroid) object 'Chabo' 'Chabo' 'Chabo' 'Chabo' ...\n",
              "  - y                (neuroid) float64 0.2 0.6 0.2 1.0 0.6 1.0 1.8 1.0 1.8 ...\n",
              "  - x                (neuroid) float64 1.8 1.8 1.4 1.8 1.4 1.4 1.0 1.0 0.2 ...\n",
              "  - region           (neuroid) object 'IT' 'IT' 'IT' 'IT' 'IT' 'IT' 'IT' ...\n",
              "  - row              (neuroid) int64 5 6 5 7 6 7 9 7 9 8 9 2 1 3 6 7 6 6 8 5 ...\n",
              "  * presentation     (presentation) MultiIndex\n",
              "  - image_id         (presentation) object 'f1ae7c2160c6cbb309b940a0dc127a8aa1060e5d' ...\n",
              "  - repetition       (presentation) int64 0 0 0 0 0 0 0 0 0 0 0 0 0 0 0 0 0 ...\n",
              "  - stimulus         (presentation) int64 0 1 2 3 4 5 6 7 8 9 10 11 12 13 14 ...\n",
              "  - id               (presentation) float64 610.0 224.0 185.0 522.0 523.0 ...\n",
              "  - image_file_name  (presentation) object 'Apple_Fruit_obj_rx-90.000_ry+00.000_rz+00.000_tx+00.000_ty+00.000_s+00.700_01c0425e982e4edc276fe5373dbf8e5e49bd9a16_256x256.png' ...\n",
              "  - object_name      (presentation) object 'apple' 'apple' 'apple' 'apple' ...\n",
              "  - category_name    (presentation) object 'Fruits' 'Fruits' 'Fruits' ...\n",
              "  - background_id    (presentation) object '01c0425e982e4edc276fe5373dbf8e5e49bd9a16' ...\n",
              "  - variation        (presentation) float64 0.0 0.0 0.0 0.0 0.0 0.0 0.0 0.0 ...\n",
              "  - ty               (presentation) float64 0.0 0.0 0.0 0.0 0.0 0.0 0.0 0.0 ...\n",
              "  - tz               (presentation) float64 0.0 0.0 0.0 0.0 0.0 0.0 0.0 0.0 ...\n",
              "  - rxy              (presentation) float64 -0.0 -0.0 -0.0 -0.0 -0.0 -0.0 ...\n",
              "  - rxz              (presentation) float64 0.0 0.0 0.0 0.0 0.0 0.0 0.0 0.0 ...\n",
              "  - ryz              (presentation) float64 -0.0 -0.0 -0.0 -0.0 -0.0 -0.0 ...\n",
              "  - rxy_semantic     (presentation) float64 -0.0 -0.0 -0.0 -0.0 -0.0 -0.0 ...\n",
              "  - rxz_semantic     (presentation) float64 0.0 0.0 0.0 0.0 0.0 0.0 0.0 0.0 ...\n",
              "  - ryz_semantic     (presentation) float64 -0.0 -0.0 -0.0 -0.0 -0.0 -0.0 ...\n",
              "  - size             (presentation) float64 256.0 256.0 256.0 256.0 256.0 ...\n",
              "  - s                (presentation) float64 1.0 1.0 1.0 1.0 1.0 1.0 1.0 1.0 ...\n",
              "  * time_bin         (time_bin) MultiIndex\n",
              "  - time_bin_start   (time_bin) int64 -100 -90 -80 -70 -60 -50 -40 -30 -20 ...\n",
              "  - time_bin_end     (time_bin) int64 -80 -70 -60 -50 -40 -30 -20 -10 0 10 ...\n",
              "Attributes:\n",
              "    stimulus_set_name:  dicarlo.hvm\n",
              "    stimulus_set:               id                                  image_id ..."
            ]
          },
          "metadata": {}
        }
      ],
      "execution_count": 4,
      "metadata": {
        "collapsed": false,
        "outputHidden": false,
        "inputHidden": false
      }
    },
    {
      "cell_type": "code",
      "source": [
        "tolias = brainscore.get_assembly(\"tolias.Cadena2017\")\n",
        "tolias"
      ],
      "outputs": [
        {
          "output_type": "stream",
          "name": "stdout",
          "text": [
            "getting v1_responses.nc\n",
            "getting v1_stimuli.zip\n"
          ]
        },
        {
          "output_type": "execute_result",
          "execution_count": 5,
          "data": {
            "text/plain": [
              "<xarray.NeuronRecordingAssembly 'tolias.Cadena2017' (neuroid: 166, presentation: 29000, time_bin: 1)>\n",
              "array([[[  6.],\n",
              "        [  4.],\n",
              "        ..., \n",
              "        [ nan],\n",
              "        [ nan]],\n",
              "\n",
              "       [[  0.],\n",
              "        [  0.],\n",
              "        ..., \n",
              "        [ nan],\n",
              "        [ nan]],\n",
              "\n",
              "       ..., \n",
              "       [[  4.],\n",
              "        [  5.],\n",
              "        ..., \n",
              "        [  1.],\n",
              "        [  0.]],\n",
              "\n",
              "       [[  2.],\n",
              "        [  3.],\n",
              "        ..., \n",
              "        [  7.],\n",
              "        [  1.]]])\n",
              "Coordinates:\n",
              "  * neuroid          (neuroid) int64 0 1 2 3 4 5 6 7 8 9 10 11 12 13 14 15 ...\n",
              "  * presentation     (presentation) MultiIndex\n",
              "  - repetition_id    (presentation) int64 0 0 0 0 0 0 0 0 0 0 0 0 0 0 0 0 0 ...\n",
              "  - image_id         (presentation) object '0fe27ddd5b9ea701e380063dc09b91234eba3551' ...\n",
              "  - id               (presentation) int64 125778 125779 125780 125781 125782 ...\n",
              "  - image_file_sha1  (presentation) object '0fe27ddd5b9ea701e380063dc09b91234eba3551' ...\n",
              "  - image_file_name  (presentation) object 'image_00000.jpg' ...\n",
              "  - image_index      (presentation) object '0' '1' '2' '3' '4' '5' '6' '7' ...\n",
              "  * time_bin         (time_bin) MultiIndex\n",
              "  - time_bin_start   (time_bin) float64 40.0\n",
              "  - time_bin_end     (time_bin) float64 100.0\n",
              "Attributes:\n",
              "    stimulus_set_name:  tolias.Cadena2017\n",
              "    stimulus_set:                 id                                  image_i..."
            ]
          },
          "metadata": {}
        }
      ],
      "execution_count": 5,
      "metadata": {
        "collapsed": false,
        "outputHidden": false,
        "inputHidden": false
      }
    },
    {
      "cell_type": "code",
      "source": [],
      "outputs": [],
      "execution_count": null,
      "metadata": {
        "collapsed": false,
        "outputHidden": false,
        "inputHidden": false
      }
    }
  ],
  "metadata": {
    "kernel_info": {
      "name": "mkgu_packaging"
    },
    "language_info": {
      "name": "python",
      "version": "3.6.3",
      "mimetype": "text/x-python",
      "codemirror_mode": {
        "name": "ipython",
        "version": 3
      },
      "pygments_lexer": "ipython3",
      "nbconvert_exporter": "python",
      "file_extension": ".py"
    },
    "kernelspec": {
      "name": "mkgu_packaging",
      "language": "python",
      "display_name": "mkgu_packaging"
    },
    "nteract": {
      "version": "0.11.6"
    }
  },
  "nbformat": 4,
  "nbformat_minor": 4
}